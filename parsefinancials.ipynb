{
 "cells": [
  {
   "cell_type": "markdown",
   "metadata": {},
   "source": [
    "# Parsing Quarterly Financials"
   ]
  },
  {
   "cell_type": "code",
   "execution_count": 3,
   "metadata": {},
   "outputs": [],
   "source": [
    "import numpy as np\n",
    "import matplotlib.pyplot as plt\n",
    "import os\n",
    "import torch\n",
    "import torch.nn as nn\n",
    "import torch.optim as optim\n",
    "from torch.utils.data import Dataset, DataLoader, SubsetRandomSampler\n",
    "from tqdm import tqdm"
   ]
  },
  {
   "cell_type": "code",
   "execution_count": 4,
   "metadata": {},
   "outputs": [],
   "source": [
    "datadir = 'Income_SP500/'\n",
    "filelist = os.listdir(datadir)"
   ]
  },
  {
   "cell_type": "code",
   "execution_count": 5,
   "metadata": {},
   "outputs": [],
   "source": [
    "feats=['TotalRevenue', 'OperatingRevenue', 'PretaxIncome', 'NetIncomeCommonStockholders', 'NetIncome', 'NetIncomeIncludingNoncontrollingInterests', 'NetIncomeContinuousOperations', 'DilutedNIAvailtoComStockholders', 'NetIncomeFromContinuingAndDiscontinuedOperation', 'NormalizedIncome', 'ReconciledDepreciation', 'NetIncomeFromContinuingOperationNetMinorityInterest', 'TaxRateForCalcs', 'TaxEffectOfUnusualItems']\n",
    "companies=[]\n",
    "data=np.empty((len(filelist),len(feats)),dtype=object)\n",
    "for it,filename in enumerate(filelist):\n",
    "    companies.append(filename.split('_')[0])\n",
    "    with open(datadir+filename, 'r') as cfile:\n",
    "        for line in cfile:\n",
    "            line=[num.replace(',','') for num in line.strip().split('\\\"') if num.replace(',','') != '']\n",
    "            if line[0] in feats:\n",
    "                data[it][feats.index(line[0])]=np.array([float(num) for num in line[1:]])"
   ]
  },
  {
   "cell_type": "code",
   "execution_count": 26,
   "metadata": {},
   "outputs": [
    {
     "name": "stdout",
     "output_type": "stream",
     "text": [
      "(14,)\n",
      "KIM\n"
     ]
    }
   ],
   "source": [
    "# print(data[0])\n",
    "print(data[0].shape)\n",
    "print(companies[4])"
   ]
  },
  {
   "cell_type": "code",
   "execution_count": 28,
   "metadata": {},
   "outputs": [
    {
     "name": "stdout",
     "output_type": "stream",
     "text": [
      "123\n",
      "123\n",
      "85\n",
      "123\n",
      "123\n",
      "123\n",
      "123\n",
      "123\n",
      "123\n",
      "123\n",
      "90\n",
      "123\n",
      "123\n",
      "123\n",
      "PretaxIncome\n",
      "[ 7.45126e+08  3.89420e+07  4.87954e+08  9.70360e+07  1.21194e+08\n",
      "  1.88248e+08 -5.94290e+07  7.33229e+08  6.58260e+07  9.37860e+07\n",
      "  6.06490e+07  6.52410e+07  9.23300e+07  2.47398e+08  5.05820e+07\n",
      "  4.11920e+07  6.01740e+07  2.57060e+07  5.19350e+07  2.12600e+07\n",
      "  4.74280e+07  3.09990e+07 -1.17880e+07  2.17600e+06  4.66380e+07\n",
      "  2.98820e+07  2.77080e+07  6.95700e+07  4.17560e+07  3.68820e+07\n",
      "  3.76660e+07 -4.45320e+07  2.74900e+07  5.15650e+07 -4.03080e+07\n",
      " -4.80000e+05  2.40770e+07  7.81000e+05  1.80710e+07  1.15700e+06\n",
      "  9.26800e+06  2.11580e+07  1.26450e+07  2.78220e+07  1.73870e+07\n",
      "  1.75830e+07  1.81290e+07  2.21690e+07  3.22470e+07  1.47740e+07\n",
      "  3.29820e+07 -2.88570e+07  2.02630e+07  3.08140e+07  1.72830e+07\n",
      "  3.08310e+07  5.02350e+07  1.04400e+06  2.28050e+07  2.65410e+07\n",
      "  2.76680e+07  3.04680e+07  3.40920e+07  4.65600e+07  5.38690e+07\n",
      "  5.28810e+07  4.00740e+07  6.38420e+07  5.88580e+07  4.97160e+07\n",
      "  5.85720e+07  5.75220e+07  6.12540e+07  1.69110e+07  5.85960e+07\n",
      "  5.95460e+07  6.81040e+07  6.96760e+07  6.27060e+07  6.26610e+07\n",
      "  6.62440e+07  6.81200e+07  6.97710e+07  6.00320e+07  5.79900e+07]\n",
      "ReconciledDepreciation\n",
      "[3.95320e+08 1.33633e+08 1.14238e+08 7.25730e+07 7.48760e+07 7.42950e+07\n",
      " 7.17040e+07 7.35590e+07 6.93970e+07 6.84390e+07 6.88740e+07 6.90050e+07\n",
      " 7.15610e+07 7.42660e+07 7.49720e+07 7.97600e+07 8.13820e+07 8.50240e+07\n",
      " 8.84430e+07 9.52700e+07 9.20740e+07 9.08840e+07 9.68270e+07 8.27530e+07\n",
      " 8.48560e+07 8.60950e+07 1.03708e+08 8.01550e+07 7.45690e+07 7.31790e+07\n",
      " 7.06180e+07 6.76300e+07 6.16660e+07 6.64350e+07 6.43780e+07 6.42690e+07\n",
      " 6.27730e+07 6.47780e+07 6.67730e+07 6.63060e+07 6.48850e+07 6.23270e+07\n",
      " 6.05260e+07 6.19540e+07 6.63320e+07 6.26030e+07 6.18630e+07 6.15810e+07\n",
      " 6.15900e+07 5.97230e+07 5.66390e+07 5.52740e+07 5.61400e+07 5.29150e+07\n",
      " 5.30200e+07 5.13300e+07 4.92530e+07 5.33860e+07 4.85630e+07 4.71030e+07\n",
      " 4.22180e+07 4.22740e+07 3.69660e+07 3.58400e+07 2.96870e+07 2.74790e+07\n",
      " 2.66710e+07 2.77090e+07 2.61830e+07 2.52640e+07 2.43950e+07 2.62210e+07\n",
      " 2.69920e+07 2.51560e+07 2.15930e+07 2.05730e+07 1.98670e+07 1.78520e+07\n",
      " 1.89710e+07 1.91380e+07 1.88460e+07 1.85800e+07 1.84900e+07 1.89300e+07\n",
      " 1.82100e+07 1.82770e+07 1.80980e+07 1.76790e+07 1.70740e+07 4.00000e+06]\n"
     ]
    }
   ],
   "source": [
    "for i in range(14):\n",
    "    print(len(data[4][i]))\n",
    "\n",
    "print(feats[2])\n",
    "print(data[4][2])\n",
    "print(feats[10])\n",
    "print(data[4][10])"
   ]
  },
  {
   "cell_type": "code",
   "execution_count": null,
   "metadata": {},
   "outputs": [],
   "source": []
  },
  {
   "cell_type": "code",
   "execution_count": null,
   "metadata": {},
   "outputs": [],
   "source": []
  },
  {
   "cell_type": "code",
   "execution_count": null,
   "metadata": {},
   "outputs": [],
   "source": []
  },
  {
   "cell_type": "code",
   "execution_count": 4,
   "metadata": {},
   "outputs": [
    {
     "name": "stdout",
     "output_type": "stream",
     "text": [
      "[184903000000.0, 51728000000.0, 45317000000.0, 46152000000.0, 41706000000.0, 43076000000.0, 37154000000.0, 38033000000.0, 35021000000.0, 36906000000.0, 33055000000.0, 33717000000.0, 30571000000.0, 32471000000.0, 29084000000.0, 30085000000.0, 26819000000.0, 28918000000.0, 24538000000.0, 23317000000.0, 22090000000.0, 24090000000.0, 20453000000.0, 20614000000.0, 20531000000.0, 23796000000.0, 20379000000.0, 22180000000.0, 21729000000.0, 26470000000.0, 23201000000.0, 23382000000.0, 20403000000.0, 24519000000.0, 18529000000.0, 19896000000.0, 20489000000.0, 21456000000.0, 16008000000.0, 18059000000.0, 17407000000.0, 20885000000.0, 17372000000.0, 17367000000.0, 16428000000.0, 19953000000.0, 16195000000.0, 16039000000.0, 14503000000.0, 19022000000.0, 12920000000.0, 13099000000.0, 13648000000.0, 16629000000.0, 15061000000.0, 15837000000.0, 14454000000.0, 16367000000.0, 13762000000.0, 13371000000.0, 14398000000.0, 12542000000.0, 10811000000.0, 11804000000.0, 10900000000.0, 11837000000.0, 9741000000.0, 10161000000.0, 9620000000.0, 10818000000.0, 9189000000.0, 9292000000.0, 9175000000.0, 10153000000.0, 8215000000.0, 8065000000.0, 7835000000.0, 8541000000.0, 7746000000.0, 7253000000.0, 7245000000.0, 7741000000.0, 6126000000.0, 6455000000.0, 6456000000.0, 6585000000.0, 5800000000.0, 5804000000.0, 5656000000.0, 6112000000.0, 5384000000.0, 6525000000.0, 4331000000.0, 4938000000.0, 3953000000.0, 3995000000.0, 3774000000.0, 3585000000.0, 3130000000.0, 3175000000.0, 3208000000.0, 2680000000.0, 2295000000.0, 2255000000.0, 2205000000.0, 2195000000.0, 2016000000.0, 1621000000.0, 1587000000.0, 1482000000.0, 1247000000.0, 1293000000.0, 1244000000.0, 1129000000.0, 983000000.0, 1039000000.0, 958000000.0, 938000000.0, 818000000.0, 815400000.0, 680900000.0, 681900000.0, 580500000.0, 526600000.0, 486900000.0, 460500000.0, 369400000.0, 336900000.0, 310900000.0, 300400000.0, 235200000.0, 220200000.0, 197000000.0, 209800000.0, 176400000.0, 170400000.0, 161800000.0, 155900000.0, 102600000.0, 99800000.0, 98400000.0, 81000000.0, 66800000.0, 61900000.0, 50500000.0, 42600000.0, 42600000.0]\n"
     ]
    }
   ],
   "source": [
    "def parse_financials(filename, keys):\n",
    "    datadict = {}\n",
    "    with open(filename, 'r') as cfile:\n",
    "        for line in cfile:\n",
    "            line = line.strip()\n",
    "            for key in keys:\n",
    "                if key in line:\n",
    "                    data = line.split(',')[1:]\n",
    "                    data = [float(el.replace(',','')) for el in data]\n",
    "                    datadict[key] = data\n",
    "            \n",
    "            \n",
    "            filtered = []\n",
    "            for el in line:\n",
    "                if el == ',' or el=='':\n",
    "                    continue\n",
    "                filtered.append(float(el.replace(',','')))\n",
    "        print(filtered)\n",
    "\n",
    "\n",
    "file_i = \"Income_SP500/MSFT_quarterly_financials.csv\"\n",
    "parse_financials(file_i)"
   ]
  },
  {
   "cell_type": "code",
   "execution_count": 12,
   "metadata": {},
   "outputs": [
    {
     "name": "stderr",
     "output_type": "stream",
     "text": [
      "100%|██████████| 503/503 [00:00<00:00, 1117.72it/s]"
     ]
    },
    {
     "name": "stdout",
     "output_type": "stream",
     "text": [
      "[('TotalRevenue', 503), ('OperatingRevenue', 503), ('PretaxIncome', 503), ('NetIncomeCommonStockholders', 503), ('NetIncome', 503), ('NetIncomeIncludingNoncontrollingInterests', 503), ('NetIncomeContinuousOperations', 503), ('DilutedNIAvailtoComStockholders', 503), ('NetIncomeFromContinuingAndDiscontinuedOperation', 503), ('NormalizedIncome', 503), ('ReconciledDepreciation', 503), ('NetIncomeFromContinuingOperationNetMinorityInterest', 503), ('TaxRateForCalcs', 503), ('TaxEffectOfUnusualItems', 503), ('BasicEPS', 501), ('DilutedEPS', 501), ('BasicAverageShares', 501), ('DilutedAverageShares', 501), ('TaxProvision', 500), ('NetInterestIncome', 499), ('InterestExpense', 496), ('TotalUnusualItemsExcludingGoodwill', 494), ('TotalUnusualItems', 494), ('TotalExpenses', 474), ('EBIT', 474), ('OtherIncomeExpense', 473), ('NetNonOperatingInterestIncomeExpense', 470), ('InterestExpenseNonOperating', 466), ('SpecialIncomeCharges', 464), ('OperatingIncome', 455), ('OperatingExpense', 452), ('EBITDA', 452), ('NormalizedEBITDA', 452), ('CostOfRevenue', 450), ('GrossProfit', 450), ('ReconciledCostOfRevenue', 450), ('SellingGeneralAndAdministration', 433), ('OtherNonOperatingIncomeExpenses', 408), ('DepreciationAmortizationDepletionIncomeStatement', 401), ('DepreciationAndAmortizationInIncomeStatement', 396), ('InterestIncome', 391), ('OtherSpecialCharges', 386), ('TotalOperatingIncomeAsReported', 384), ('OtherOperatingExpenses', 380), ('MinorityInterests', 363), ('InterestIncomeNonOperating', 356), ('NetIncomeDiscontinuousOperations', 335), ('RestructuringAndMergernAcquisition', 302), ('ImpairmentOfCapitalAssets', 276), ('GainOnSaleOfSecurity', 263), ('NetIncomeExtraordinary', 260), ('EarningsFromEquityInterest', 246), ('GeneralAndAdministrativeExpense', 232), ('OtherGandA', 222), ('PreferredStockDividends', 217), ('TotalOtherFinanceCost', 211), ('OtherunderPreferredStockDividend', 210), ('ResearchAndDevelopment', 179), ('GainOnSaleOfBusiness', 175), ('Amortization', 164), ('AmortizationOfIntangiblesIncomeStatement', 164), ('WriteOff', 157), ('NetIncomeFromTaxLossCarryforward', 151), ('GainOnSaleOfPPE', 141), ('SellingAndMarketingExpense', 133), ('EarningsFromEquityInterestNetOfTax', 123), ('SalariesAndWages', 119), ('AverageDilutionEarnings', 108), ('DepreciationIncomeStatement', 96), ('OtherTaxes', 87), ('RentExpenseSupplemental', 52), ('RentAndLandingFees', 32), ('ProvisionForDoubtfulAccounts', 32), ('InsuranceAndClaims', 17), ('SecuritiesAmortization', 8), ('ExciseTaxes', 7), ('DepletionIncomeStatement', 2)]\n",
      "['TotalRevenue', 'OperatingRevenue', 'PretaxIncome', 'NetIncomeCommonStockholders', 'NetIncome', 'NetIncomeIncludingNoncontrollingInterests', 'NetIncomeContinuousOperations', 'DilutedNIAvailtoComStockholders', 'NetIncomeFromContinuingAndDiscontinuedOperation', 'NormalizedIncome', 'ReconciledDepreciation', 'NetIncomeFromContinuingOperationNetMinorityInterest', 'TaxRateForCalcs', 'TaxEffectOfUnusualItems']\n",
      "14\n"
     ]
    },
    {
     "name": "stderr",
     "output_type": "stream",
     "text": [
      "\n"
     ]
    }
   ],
   "source": [
    "def get_labels():\n",
    "    datadir = 'Income_SP500/'\n",
    "    filelist = os.listdir(datadir)\n",
    "    labels = {}\n",
    "    for file_i in tqdm(filelist):\n",
    "        with open(datadir+file_i, 'r') as cfile:\n",
    "            cfile.readline()\n",
    "            for line in cfile:\n",
    "                line = line.strip()\n",
    "                label = line.split(',')[0]\n",
    "                # print(line.split(','))\n",
    "                # print(label)\n",
    "                if label in labels.keys():\n",
    "                    labels[label] += 1\n",
    "                else:\n",
    "                    labels[label] = 1\n",
    "\n",
    "        # print(labels)\n",
    "    return labels\n",
    "\n",
    "labels = get_labels()\n",
    "labels = sorted(labels.items(), key=lambda x:x[1], reverse=True)\n",
    "print(labels)\n",
    "keys = [item[0] for item in labels[:14]]\n",
    "print(keys)\n",
    "n = 0\n",
    "cut = 503\n",
    "labels = dict(labels)\n",
    "for item in labels.items():\n",
    "    if item[1]>=cut:\n",
    "        n+=1\n",
    "print(n)"
   ]
  },
  {
   "cell_type": "code",
   "execution_count": null,
   "metadata": {},
   "outputs": [],
   "source": []
  },
  {
   "cell_type": "code",
   "execution_count": null,
   "metadata": {},
   "outputs": [],
   "source": []
  }
 ],
 "metadata": {
  "interpreter": {
   "hash": "7a5a984c1cdec1b8f082f97c522e8e79e78d498a880ce482d6dd6aea46e5a08c"
  },
  "kernelspec": {
   "display_name": "Python 3.7.6 ('pyenv')",
   "language": "python",
   "name": "python3"
  },
  "language_info": {
   "codemirror_mode": {
    "name": "ipython",
    "version": 3
   },
   "file_extension": ".py",
   "mimetype": "text/x-python",
   "name": "python",
   "nbconvert_exporter": "python",
   "pygments_lexer": "ipython3",
   "version": "3.7.6"
  },
  "orig_nbformat": 4
 },
 "nbformat": 4,
 "nbformat_minor": 2
}

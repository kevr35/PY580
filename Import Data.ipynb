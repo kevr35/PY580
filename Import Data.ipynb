{
 "cells": [
  {
   "cell_type": "code",
   "execution_count": 27,
   "id": "0b00682a",
   "metadata": {},
   "outputs": [],
   "source": [
    "import numpy as np\n",
    "import os"
   ]
  },
  {
   "cell_type": "code",
   "execution_count": 28,
   "id": "ee592851",
   "metadata": {},
   "outputs": [],
   "source": [
    "datadir = 'Income_SP500/'\n",
    "filelist = os.listdir(datadir)"
   ]
  },
  {
   "cell_type": "code",
   "execution_count": 63,
   "id": "91ad9a2b",
   "metadata": {},
   "outputs": [],
   "source": [
    "feats=['TotalRevenue', 'OperatingRevenue', 'PretaxIncome', 'NetIncomeCommonStockholders', 'NetIncome', 'NetIncomeIncludingNoncontrollingInterests', 'NetIncomeContinuousOperations', 'DilutedNIAvailtoComStockholders', 'NetIncomeFromContinuingAndDiscontinuedOperation', 'NormalizedIncome', 'ReconciledDepreciation', 'NetIncomeFromContinuingOperationNetMinorityInterest', 'TaxRateForCalcs', 'TaxEffectOfUnusualItems']\n",
    "companies=[]\n",
    "data=np.zeros((len(filelist),len(feats)),object)\n",
    "for it,filename in enumerate(filelist):\n",
    "    companies.append(filename.split('_')[0])\n",
    "    with open(datadir+filename, 'r') as cfile:\n",
    "        for line in cfile:\n",
    "            line=[num.replace(',','') for num in line.strip().split('\\\"') if num.replace(',','') != '']\n",
    "            if line[0][:-1] in feats:\n",
    "                data[it][feats.index(line[0][:-1])]=np.array([float(num) for num in line[1:]])"
   ]
  },
  {
   "cell_type": "code",
   "execution_count": null,
   "id": "872ad338",
   "metadata": {},
   "outputs": [],
   "source": []
  }
 ],
 "metadata": {
  "kernelspec": {
   "display_name": "Python 3 (ipykernel)",
   "language": "python",
   "name": "python3"
  },
  "language_info": {
   "codemirror_mode": {
    "name": "ipython",
    "version": 3
   },
   "file_extension": ".py",
   "mimetype": "text/x-python",
   "name": "python",
   "nbconvert_exporter": "python",
   "pygments_lexer": "ipython3",
   "version": "3.9.7"
  }
 },
 "nbformat": 4,
 "nbformat_minor": 5
}

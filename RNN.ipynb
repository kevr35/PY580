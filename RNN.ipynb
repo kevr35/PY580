{
 "cells": [
  {
   "cell_type": "markdown",
   "metadata": {},
   "source": [
    "# Reccurent Neural Network for Quarterly Financials"
   ]
  },
  {
   "cell_type": "code",
   "execution_count": 1,
   "metadata": {},
   "outputs": [],
   "source": [
    "import numpy as np\n",
    "import matplotlib.pyplot as plt\n",
    "import os\n",
    "import torch\n",
    "import torch.nn as nn\n",
    "import torch.optim as optim\n",
    "from torch.utils.data import Dataset, DataLoader, SubsetRandomSampler\n",
    "from tqdm import tqdm"
   ]
  },
  {
   "cell_type": "markdown",
   "metadata": {},
   "source": [
    "## Import Financial Data"
   ]
  },
  {
   "cell_type": "code",
   "execution_count": 2,
   "metadata": {},
   "outputs": [],
   "source": [
    "datadir = 'Income_SP500/'\n",
    "filelist = os.listdir(datadir)"
   ]
  },
  {
   "cell_type": "code",
   "execution_count": 3,
   "metadata": {},
   "outputs": [],
   "source": [
    "feats=['TotalRevenue', 'OperatingRevenue', 'PretaxIncome', 'NetIncomeCommonStockholders', 'NetIncome', 'NetIncomeIncludingNoncontrollingInterests', 'NetIncomeContinuousOperations', 'DilutedNIAvailtoComStockholders', 'NetIncomeFromContinuingAndDiscontinuedOperation', 'NormalizedIncome', 'ReconciledDepreciation', 'NetIncomeFromContinuingOperationNetMinorityInterest', 'TaxRateForCalcs', 'TaxEffectOfUnusualItems']\n",
    "companies=[]\n",
    "data=np.empty((len(filelist),len(feats)),dtype=object)\n",
    "for it,filename in enumerate(filelist):\n",
    "    companies.append(filename.split('_')[0])\n",
    "    with open(datadir+filename, 'r') as cfile:\n",
    "        for line in cfile:\n",
    "            line=[num.replace(',','') for num in line.strip().split('\\\"') if num.replace(',','') != '']\n",
    "            if line[0] in feats:\n",
    "                data[it][feats.index(line[0])]=np.array([float(num) for num in line[1:]])"
   ]
  },
  {
   "cell_type": "code",
   "execution_count": null,
   "metadata": {},
   "outputs": [],
   "source": []
  },
  {
   "cell_type": "code",
   "execution_count": null,
   "metadata": {},
   "outputs": [],
   "source": []
  },
  {
   "cell_type": "markdown",
   "metadata": {},
   "source": [
    "## Recurrent Neural Network"
   ]
  },
  {
   "cell_type": "code",
   "execution_count": 9,
   "metadata": {},
   "outputs": [
    {
     "name": "stdout",
     "output_type": "stream",
     "text": [
      "# of Parameters: 21801\n",
      "torch.Size([5, 3, 14])\n",
      "torch.Size([5, 1])\n",
      "tensor([[-0.1079],\n",
      "        [-0.1148],\n",
      "        [-0.1387],\n",
      "        [-0.0791],\n",
      "        [-0.1252]], grad_fn=<AddmmBackward0>)\n"
     ]
    }
   ],
   "source": [
    "if torch.cuda.is_available():\n",
    "    DEVICE= torch.device('cuda')\n",
    "else:   \n",
    "    DEVICE = torch.device('cpu')\n",
    "class FinRNN(nn.Module):\n",
    "    def __init__(self, n_features):\n",
    "        super(FinRNN, self).__init__()\n",
    "        self.hidden1 = 100\n",
    "        self.hidden2 = 100\n",
    "\n",
    "        self.rnn = nn.RNN(n_features, self.hidden1, nonlinearity='relu', batch_first=True)\n",
    "        self.FC1 = nn.Linear(self.hidden1, self.hidden2)\n",
    "        self.FC2 = nn.Linear(self.hidden2, 1)\n",
    "        \n",
    "    def forward(self, x):\n",
    "        # set hidden states for RNN layer\n",
    "        # h0 = torch.zeros(1, x.size(0), self.hidden1).to(DEVICE)\n",
    "        x, hout = self.rnn(x)\n",
    "        # Take final RNN output and feed to Fully Connected Layers\n",
    "        x = self.FC1(x[:, -1, :])\n",
    "        x = torch.relu(x)\n",
    "        x = self.FC2(x)\n",
    "        return x\n",
    "\n",
    "model = FinRNN(14)\n",
    "print('# of Parameters:', sum([param.numel() for param in model.parameters()]))\n",
    "\n",
    "indata = torch.randn(5, 3, 14)\n",
    "\n",
    "# h0 = torch.randn(2, 3, 20)\n",
    "output = model(indata)\n",
    "print(indata.size())\n",
    "print(output.size())\n",
    "print(output)"
   ]
  }
 ],
 "metadata": {
  "interpreter": {
   "hash": "7a5a984c1cdec1b8f082f97c522e8e79e78d498a880ce482d6dd6aea46e5a08c"
  },
  "kernelspec": {
   "display_name": "Python 3.7.6 ('pyenv': venv)",
   "language": "python",
   "name": "python3"
  },
  "language_info": {
   "codemirror_mode": {
    "name": "ipython",
    "version": 3
   },
   "file_extension": ".py",
   "mimetype": "text/x-python",
   "name": "python",
   "nbconvert_exporter": "python",
   "pygments_lexer": "ipython3",
   "version": "3.7.6"
  },
  "orig_nbformat": 4
 },
 "nbformat": 4,
 "nbformat_minor": 2
}

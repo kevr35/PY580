{
 "cells": [
  {
   "cell_type": "markdown",
   "metadata": {},
   "source": [
    "# Reccurent Neural Network"
   ]
  },
  {
   "cell_type": "code",
   "execution_count": 1,
   "metadata": {},
   "outputs": [],
   "source": [
    "import numpy as np\n",
    "import matplotlib.pyplot as plt\n",
    "import os\n",
    "import torch\n",
    "import torch.nn as nn\n",
    "import torch.optim as optim\n",
    "from torch.utils.data import Dataset, DataLoader, SubsetRandomSampler\n",
    "from tqdm import tqdm\n",
    "import yfinance as yf"
   ]
  },
  {
   "cell_type": "markdown",
   "metadata": {},
   "source": [
    "## Import Financial Data"
   ]
  },
  {
   "cell_type": "code",
   "execution_count": 2,
   "metadata": {},
   "outputs": [],
   "source": [
    "msft = yf.Ticker(\"MSFT\")\n",
    "hist = msft.history(period='max')"
   ]
  },
  {
   "cell_type": "code",
   "execution_count": 3,
   "metadata": {},
   "outputs": [],
   "source": [
    "BTC = yf.Ticker(\"BTC\")\n",
    "hist = BTC.history(period='max')"
   ]
  },
  {
   "cell_type": "markdown",
   "metadata": {},
   "source": [
    "## Data Loader for Stock/Crypto Price Data\n",
    " - Take daily price data\n",
    " - Can also add high/low/volume?"
   ]
  },
  {
   "cell_type": "code",
   "execution_count": 4,
   "metadata": {},
   "outputs": [
    {
     "name": "stdout",
     "output_type": "stream",
     "text": [
      "(16, 100, 10)\n",
      "(16, 100, 5)\n",
      "(4, 100, 10)\n",
      "(4, 100, 5)\n"
     ]
    }
   ],
   "source": [
    "# Select random windows from time series data\n",
    "\n",
    "def getwindows(dataX, dataY, windowsize, trainsplit):\n",
    "\tN = len(dataX)\n",
    "\tnwindows = int(N/windowsize)\n",
    "\tntrain = int(trainsplit*nwindows)\n",
    "\n",
    "\tstarts = np.arange(nwindows)*windowsize\n",
    "\tnp.random.shuffle(starts)\n",
    "\ttrainpos = starts[:ntrain]\n",
    "\tvalpos = starts[ntrain:]\n",
    "\n",
    "\ttrainwindows = []\n",
    "\ttraintarget = []\n",
    "\tvalwindows = []\n",
    "\tvaltarget = []\n",
    "\tfor idx in trainpos:\n",
    "\t\ttrainwindows.append(dataX[idx:idx+windowsize])\n",
    "\t\ttraintarget.append(dataY[idx:idx+windowsize])\n",
    "\tfor idx in valpos:\n",
    "\t\tvalwindows.append(dataX[idx:idx+windowsize])\n",
    "\t\tvaltarget.append(dataY[idx:idx+windowsize])\n",
    "\n",
    "\treturn np.array(trainwindows), np.array(traintarget), np.array(valwindows), np.array(valtarget)\n",
    "\n",
    "x = np.random.rand(2000,10)\n",
    "y = np.random.rand(2000,5)\n",
    "\n",
    "tx, ty, vx, vy = getwindows(x, y, 100, .80)\n",
    "print(tx.shape)\n",
    "print(ty.shape)\n",
    "print(vx.shape)\n",
    "print(vy.shape)"
   ]
  },
  {
   "cell_type": "code",
   "execution_count": 5,
   "metadata": {},
   "outputs": [],
   "source": [
    "class StockCryptoDataset(Dataset):\n",
    "    def __init__(self, dataX, dataY):\n",
    "        self.trainX = dataX\n",
    "        self.trainY = dataY\n",
    "\n",
    "    def __len__(self):\n",
    "        return len(self.trainX)\n",
    "\n",
    "    def __getitem__(self, idx):\n",
    "        return self.trainX[idx], self.trainY[idx]"
   ]
  },
  {
   "cell_type": "code",
   "execution_count": 28,
   "metadata": {},
   "outputs": [
    {
     "name": "stdout",
     "output_type": "stream",
     "text": [
      "(440, 1115)\n",
      "(8, 1115)\n",
      "[58.09891891 57.53467941 56.96118164 56.79467773 56.97042847]\n",
      "[0.68229444 0.6756682  0.66893323 0.66697787 0.66904183]\n",
      "[ 99.0037   104.236    102.397003 100.351997  98.292397]\n",
      "[0.26233874 0.27620322 0.27133027 0.26591144 0.26045394]\n"
     ]
    }
   ],
   "source": [
    "# load stock-crypto npy data\n",
    "stocks = np.load(\"./stocks.npy\")\n",
    "cryptos = np.load(\"./cryptos.npy\")\n",
    "\n",
    "print(stocks.shape)\n",
    "print(cryptos.shape)\n",
    "# Rescale each stock and crypto\n",
    "print(stocks[0][:5])\n",
    "for i, c in enumerate(stocks):\n",
    "\tc = c/np.max(c)\n",
    "\tstocks[i] = c\n",
    "\tbreak\n",
    "print(stocks[0][:5])\n",
    "print(cryptos[0][:5])\n",
    "for i, c in enumerate(cryptos):\n",
    "\tc = c/np.max(c)\n",
    "\tcryptos[i] = c\n",
    "\tbreak\n",
    "print(cryptos[0][:5])\n",
    "# print(cryptos[:8])\n",
    "# print(len(np.divide(cryptos, np.max(cryptos, axis=1))))\n",
    "# print((np.divide(cryptos, np.max(cryptos, axis=1)))[:8])\n",
    "\n",
    "\n",
    "stocks = stocks.transpose()\n",
    "cryptos = cryptos.transpose()"
   ]
  },
  {
   "cell_type": "markdown",
   "metadata": {},
   "source": [
    "## Recurrent Neural Network"
   ]
  },
  {
   "cell_type": "code",
   "execution_count": 82,
   "metadata": {},
   "outputs": [
    {
     "name": "stdout",
     "output_type": "stream",
     "text": [
      "cpu\n"
     ]
    },
    {
     "name": "stderr",
     "output_type": "stream",
     "text": [
      "100%|██████████| 20/20 [00:02<00:00,  7.89it/s]\n"
     ]
    },
    {
     "data": {
      "image/png": "[encoded data removed]",
      "text/plain": [
       "<Figure size 432x288 with 1 Axes>"
      ]
     },
     "metadata": {
      "needs_background": "light"
     },
     "output_type": "display_data"
    },
    {
     "name": "stdout",
     "output_type": "stream",
     "text": [
      "(9, 25, 440)\n",
      "(9, 25, 8)\n",
      "(9, 25, 8)\n",
      "[0.12721312 0.12951937 0.12140535 0.12025159 0.11975171 0.12003971\n",
      " 0.1210161  0.11907943 0.11829774 0.11644675 0.11680837 0.11778458\n",
      " 0.1069832  0.09826319 0.10805447 0.10578029 0.10676035 0.10823711\n",
      " 0.10778809 0.10669643 0.1091134  0.11327135 0.1095424  0.10552251\n",
      " 0.11239224]\n",
      "[1. 1. 1. 1. 1. 1. 1. 1. 1. 1. 1. 1. 1. 1. 1. 1. 1. 1. 1. 1. 1. 1. 1. 1.\n",
      " 1.]\n"
     ]
    },
    {
     "data": {
      "image/png": "[encoded data removed]",
      "text/plain": [
       "<Figure size 432x288 with 1 Axes>"
      ]
     },
     "metadata": {
      "needs_background": "light"
     },
     "output_type": "display_data"
    }
   ],
   "source": [
    "if torch.cuda.is_available():\n",
    "\tDEVICE= torch.device('cuda')\n",
    "else:   \n",
    "\tDEVICE = torch.device('cpu')\n",
    "print(DEVICE)\n",
    "\n",
    "# class FinRNN(nn.Module):\n",
    "#\t def __init__(self, n_companies, n_crypto):\n",
    "#\t\t super(FinCryptoRNN, self).__init__()\n",
    "#\t\t self.hidden1 = 100\n",
    "#\t\t self.hidden2 = 100\n",
    "\n",
    "#\t\t self.rnn = nn.RNN(n_companies, self.hidden1, nonlinearity='relu', batch_first=True)\n",
    "#\t\t self.FC1 = nn.Linear(self.hidden1, self.hidden2)\n",
    "#\t\t self.FC2 = nn.Linear(self.hidden2, 1)\n",
    "\t\t\n",
    "#\t def forward(self, x):\n",
    "#\t\t x, hout = self.rnn(x)\n",
    "#\t\t # Take final RNN output and feed to Fully Connected Layers\n",
    "#\t\t x = self.FC1(x[:, -1, :])\n",
    "#\t\t x = torch.relu(x)\n",
    "#\t\t x = self.FC2(x)\n",
    "#\t\t return x\n",
    "\n",
    "class FinCryptoRNN(nn.Module):\n",
    "\tdef __init__(self, n_companies, n_crypto, l_window):\n",
    "\t\tsuper(FinCryptoRNN, self).__init__()\n",
    "\t\tself.hidden1 = 500\n",
    "\t\tself.hidden2 = 300\n",
    "\t\tself.hidden3 = 50\n",
    "\n",
    "\t\tself.rnn1 = nn.RNN(n_companies, self.hidden1, nonlinearity='relu', batch_first=True)\n",
    "\t\tself.rnn2 = nn.RNN(self.hidden1, self.hidden2, nonlinearity='relu', batch_first=True)\n",
    "\t\tself.rnn3 = nn.RNN(self.hidden2, n_crypto, nonlinearity='tanh', batch_first=True)\n",
    "\n",
    "\t\tself.drop1 = nn.Dropout(p=0.2)\n",
    "\t\tself.drop2 = nn.Dropout(p=0.2)\n",
    "\t\t# self.FC = nn.Linear(self.hidden3*l_window, n_crypto)\n",
    "\t\t\n",
    "\tdef forward(self, x):\n",
    "\t\tx, hout = self.rnn1(x)\n",
    "\t\tx = self.drop1(x)\n",
    "\t\tx, hout = self.rnn2(x)\n",
    "\t\tx = self.drop2(x)\n",
    "\t\tx, hout = self.rnn3(x)\n",
    "\n",
    "\t\t# Take final RNN output and feed to Fully Connected Layers\n",
    "\t\t# x = torch.flatten(x, start_dim=1)\n",
    "\t\t# x = self.FC(x)\n",
    "\t\treturn x\n",
    "\t\t\n",
    "# Generate random data\n",
    "# x = np.random.rand(5000,200)\n",
    "# y = np.random.rand(5000,10)\n",
    "\n",
    "# Generate sinusoidal data\n",
    "# x = np.array([np.sin(np.linspace(0,10,5000)*233)])\n",
    "# x = np.repeat(x, 200, axis=0)\n",
    "# x = np.transpose(x)\n",
    "\n",
    "# y = np.array([np.cos(np.linspace(0,10,5000)*233)])\n",
    "# y = np.repeat(y, 10, axis=0)\n",
    "# y = np.transpose(y)\n",
    "# print('datashape', x.shape)\n",
    "# print('datashape', y.shape)\n",
    "\n",
    "# load stock-crypto npy data\n",
    "stocks = np.load(\"./stocks.npy\")\n",
    "cryptos = np.load(\"./cryptos.npy\")\n",
    "# Rescale each stock and crypto\n",
    "for i, c in enumerate(stocks):\n",
    "\tc = c/np.max(c)\n",
    "\tstocks[i] = c\n",
    "\n",
    "for i, c in enumerate(cryptos):\n",
    "\tc = c/np.max(c)\n",
    "\tcryptos[i] = c\n",
    "\n",
    "stocks = stocks.transpose()\n",
    "cryptos = cryptos.transpose()\n",
    "# print(stocks.shape)\n",
    "# print(cryptos.shape)\n",
    "# print(stocks[0][:5])\n",
    "# print(cryptos[0][:5])\n",
    "\n",
    "l_window = 25\n",
    "tx, ty, vx, vy = getwindows(stocks, cryptos, l_window, .80)\n",
    "\n",
    "traindataset = StockCryptoDataset(tx, ty)\n",
    "valdataset = StockCryptoDataset(vx, vy)\n",
    "\n",
    "trainloader = DataLoader(traindataset, batch_size=10, shuffle=True)\n",
    "valloader = DataLoader(valdataset, batch_size=10, shuffle=True)\n",
    "\n",
    "model = FinCryptoRNN(n_companies=440, n_crypto=8, l_window=l_window).float()\n",
    "\n",
    "mseloss = nn.MSELoss().float()\n",
    "optimizer = optim.SGD(model.parameters(), lr=0.1, momentum=0.9)\n",
    "\n",
    "NEPOCHS = 20\n",
    "\n",
    "tlosses = []\n",
    "vlosses = []\n",
    "for i in tqdm(range(NEPOCHS)):\n",
    "\tmodel.train()\n",
    "\tloss_i = 0\n",
    "\tfor stock, crypto in trainloader:\n",
    "\t\tstock = stock.float()\n",
    "\t\tcrypto = crypto.float()\n",
    "\t\toutputs = model(stock)\n",
    "\t\tloss = mseloss(outputs, crypto)\n",
    "\t\tloss_i += loss.item()\n",
    "\t\tloss.backward()\n",
    "\t\toptimizer.step()\n",
    "\t\toptimizer.zero_grad()\n",
    "\ttlosses.append(loss_i)\n",
    "\t# print(\"\\r Loss\", loss_i, end='')\n",
    "\t\n",
    "\tmodel.eval()\n",
    "\tloss_i = 0\n",
    "\tfor stock, crypto in valloader:\n",
    "\t\tstock = stock.float()\n",
    "\t\tcrypto = crypto.float()\n",
    "\t\toutputs = model(stock)\n",
    "\t\tloss = mseloss(outputs, crypto)\n",
    "\t\tloss_i += loss.item()\n",
    "\tvlosses.append(loss_i)\n",
    "\n",
    "plt.figure()\n",
    "plt.title(\"Losses Over Training\")\n",
    "plt.plot(tlosses, 'r-', label='Training')\n",
    "plt.plot(vlosses, 'b-', label='Validation')\n",
    "plt.ylabel(\"Loss\")\n",
    "plt.xlabel(\"Epoch\")\n",
    "plt.legend()\n",
    "plt.show()\n",
    "\n",
    "stock = stock.numpy()\n",
    "crypto = crypto.numpy()\n",
    "outputs = outputs.detach().numpy()\n",
    "\n",
    "print(stock.shape)\n",
    "print(crypto.shape)\n",
    "print(outputs.shape)\n",
    "print(crypto[0,:,0])\n",
    "print(outputs[0,:,0])\n",
    "plt.figure()\n",
    "plt.plot(stock[0,:,0], 'g-', label='StockVal')\n",
    "plt.plot(crypto[0,:,0], 'r-', label='Validation')\n",
    "plt.plot(outputs[0,:,0], 'b-', label='Model')\n",
    "plt.legend()\n",
    "plt.show()"
   ]
  },
  {
   "cell_type": "code",
   "execution_count": 76,
   "metadata": {},
   "outputs": [
    {
     "data": {
      "image/png": "[encoded data removed]",
      "text/plain": [
       "<Figure size 432x288 with 1 Axes>"
      ]
     },
     "metadata": {
      "needs_background": "light"
     },
     "output_type": "display_data"
    },
    {
     "data": {
      "image/png": "[encoded data removed]",
      "text/plain": [
       "<Figure size 432x288 with 1 Axes>"
      ]
     },
     "metadata": {
      "needs_background": "light"
     },
     "output_type": "display_data"
    },
    {
     "data": {
      "image/png": "[encoded data removed]",
      "text/plain": [
       "<Figure size 432x288 with 1 Axes>"
      ]
     },
     "metadata": {
      "needs_background": "light"
     },
     "output_type": "display_data"
    },
    {
     "data": {
      "image/png": "[encoded data removed]",
      "text/plain": [
       "<Figure size 432x288 with 1 Axes>"
      ]
     },
     "metadata": {
      "needs_background": "light"
     },
     "output_type": "display_data"
    }
   ],
   "source": [
    "for i in range(4):\n",
    "\tplt.figure()\n",
    "\tplt.plot(crypto[i,:,i], 'r-', label='Validation')\n",
    "\tplt.plot(outputs[i,:,i], 'b-', label='Model')\n",
    "\tplt.legend()\n",
    "\tplt.show()"
   ]
  }
 ],
 "metadata": {
  "interpreter": {
   "hash": "7a5a984c1cdec1b8f082f97c522e8e79e78d498a880ce482d6dd6aea46e5a08c"
  },
  "kernelspec": {
   "display_name": "Python 3.7.6 ('pyenv': venv)",
   "language": "python",
   "name": "python3"
  },
  "language_info": {
   "codemirror_mode": {
    "name": "ipython",
    "version": 3
   },
   "file_extension": ".py",
   "mimetype": "text/x-python",
   "name": "python",
   "nbconvert_exporter": "python",
   "pygments_lexer": "ipython3",
   "version": "3.7.6"
  },
  "orig_nbformat": 4
 },
 "nbformat": 4,
 "nbformat_minor": 2
}
